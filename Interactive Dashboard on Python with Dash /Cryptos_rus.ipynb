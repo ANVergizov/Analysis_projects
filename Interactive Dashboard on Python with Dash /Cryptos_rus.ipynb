{
 "cells": [
  {
   "cell_type": "markdown",
   "metadata": {},
   "source": [
    "<div style=\"padding:20px;color:white;margin:0;font-size:250%;text-align:left;display:fill;border-radius:2px;background-color:#222222;overflow:hidden;font-weight:500\">Интерактивный Dashboard</div>"
   ]
  },
  {
   "cell_type": "markdown",
   "metadata": {},
   "source": [
    "При помощи открытого API - api.coincap.io собраны исторические данные о стоимости 100 различных криптовалют в долларах.\n",
    "\n",
    "Используя библиотеку Dash разработан интерактивный dashboard на локальном сервере.\n",
    "Два поля для фильтрации:\n",
    "- Дата.\n",
    "- Обозначение криптовалюты.\n",
    "\n"
   ]
  },
  {
   "cell_type": "code",
   "execution_count": 1,
   "metadata": {},
   "outputs": [],
   "source": [
    "# Импорт необходимых библиотек\n",
    "\n",
    "import requests\n",
    "import pandas as pd\n",
    "import numpy as np\n",
    "from datetime import datetime as dt\n",
    "\n",
    "import dash\n",
    "from dash import dcc\n",
    "from dash import html\n",
    "from dash.dependencies import Output, Input"
   ]
  },
  {
   "cell_type": "markdown",
   "metadata": {},
   "source": [
    "<div style=\"padding:10px;color:white;margin:0;font-size:150%;text-align:left;display:fill;border-radius:2px;background-color:#079A82;overflow:hidden;font-weight:500\">Сбор данных через API</div>"
   ]
  },
  {
   "cell_type": "code",
   "execution_count": 2,
   "metadata": {},
   "outputs": [],
   "source": [
    "# Функция для получения доступного списка криптовалют\n",
    "\n",
    "def crypto_values(url):\n",
    "    list_crypto = []\n",
    "    n = 0\n",
    "    response = requests.get(url)\n",
    "    data = response.json()\n",
    "    while n != len(data['data']):\n",
    "        list_crypto.append({data['data'][n]['id']: data['data'][n]['symbol']})\n",
    "        n += 1\n",
    "    return list_crypto"
   ]
  },
  {
   "cell_type": "code",
   "execution_count": 3,
   "metadata": {},
   "outputs": [],
   "source": [
    "cryptos = crypto_values('https://api.coincap.io/v2/assets')"
   ]
  },
  {
   "cell_type": "code",
   "execution_count": 4,
   "metadata": {},
   "outputs": [],
   "source": [
    "df_cols = ['name', 'symbol', 'priceUsd', 'date']\n",
    "rows = []"
   ]
  },
  {
   "cell_type": "code",
   "execution_count": 5,
   "metadata": {},
   "outputs": [],
   "source": [
    "#Функция для сбора информации о криптовалютах\n",
    "\n",
    "def crypto_scraper(crypto_list):\n",
    "    \n",
    "    crypto_names = crypto_list\n",
    "    \n",
    "    while len(crypto_list) != 0 :\n",
    "        \n",
    "        for i in crypto_list:\n",
    "        \n",
    "            res = requests.get(f'http://api.coincap.io/v2/assets/{list(i.keys())[0]}/history?interval=d1')\n",
    "    \n",
    "            if res.status_code == 200:  #Некоторые данные периодически не доступны\n",
    "                                        #Функция будет собирать пока не соберет полностью\n",
    "                data = res.json()\n",
    "                n = 0\n",
    "        \n",
    "                for num in range(0, len(data['data'])):\n",
    "            \n",
    "                    rows.append({'name': list(i.keys())[0],\n",
    "                                 'symbol': i[list(i.keys())[0]],\n",
    "                                 'date': data['data'][num]['date'],\n",
    "                                 'priceUsd': data['data'][num]['priceUsd']})\n",
    "                \n",
    "                crypto_names.remove(i)\n",
    "            \n",
    "                \n",
    "            else:\n",
    "                print(f'Did not save {i}, fixing....')\n",
    "    return print(f'All {len(rows)} rows saved!')\n",
    "        \n",
    "        \n",
    "            "
   ]
  },
  {
   "cell_type": "code",
   "execution_count": 6,
   "metadata": {},
   "outputs": [
    {
     "name": "stdout",
     "output_type": "stream",
     "text": [
      "Did not save {'polygon': 'MATIC'}, fixing....\n",
      "Did not save {'multi-collateral-dai': 'DAI'}, fixing....\n",
      "Did not save {'ankr': 'ANKR'}, fixing....\n",
      "Did not save {'iotex': 'IOTX'}, fixing....\n",
      "Did not save {'avalanche': 'AVAX'}, fixing....\n",
      "Did not save {'crypto-com-coin': 'CRO'}, fixing....\n",
      "Did not save {'crypto-com-coin': 'CRO'}, fixing....\n",
      "All 36200 rows saved!\n"
     ]
    }
   ],
   "source": [
    "crypto_scraper(cryptos)"
   ]
  },
  {
   "cell_type": "code",
   "execution_count": 7,
   "metadata": {},
   "outputs": [
    {
     "data": {
      "text/html": [
       "<div>\n",
       "<style scoped>\n",
       "    .dataframe tbody tr th:only-of-type {\n",
       "        vertical-align: middle;\n",
       "    }\n",
       "\n",
       "    .dataframe tbody tr th {\n",
       "        vertical-align: top;\n",
       "    }\n",
       "\n",
       "    .dataframe thead th {\n",
       "        text-align: right;\n",
       "    }\n",
       "</style>\n",
       "<table border=\"1\" class=\"dataframe\">\n",
       "  <thead>\n",
       "    <tr style=\"text-align: right;\">\n",
       "      <th></th>\n",
       "      <th>name</th>\n",
       "      <th>symbol</th>\n",
       "      <th>priceUsd</th>\n",
       "      <th>date</th>\n",
       "    </tr>\n",
       "  </thead>\n",
       "  <tbody>\n",
       "    <tr>\n",
       "      <th>0</th>\n",
       "      <td>bitcoin</td>\n",
       "      <td>BTC</td>\n",
       "      <td>36585.7610417722410952</td>\n",
       "      <td>2022-01-25T00:00:00.000Z</td>\n",
       "    </tr>\n",
       "    <tr>\n",
       "      <th>1</th>\n",
       "      <td>bitcoin</td>\n",
       "      <td>BTC</td>\n",
       "      <td>37593.2862902953800372</td>\n",
       "      <td>2022-01-26T00:00:00.000Z</td>\n",
       "    </tr>\n",
       "    <tr>\n",
       "      <th>2</th>\n",
       "      <td>bitcoin</td>\n",
       "      <td>BTC</td>\n",
       "      <td>36443.7277806191196014</td>\n",
       "      <td>2022-01-27T00:00:00.000Z</td>\n",
       "    </tr>\n",
       "    <tr>\n",
       "      <th>3</th>\n",
       "      <td>bitcoin</td>\n",
       "      <td>BTC</td>\n",
       "      <td>37195.3337856870182247</td>\n",
       "      <td>2022-01-28T00:00:00.000Z</td>\n",
       "    </tr>\n",
       "    <tr>\n",
       "      <th>4</th>\n",
       "      <td>bitcoin</td>\n",
       "      <td>BTC</td>\n",
       "      <td>37936.3896273022133066</td>\n",
       "      <td>2022-01-29T00:00:00.000Z</td>\n",
       "    </tr>\n",
       "  </tbody>\n",
       "</table>\n",
       "</div>"
      ],
      "text/plain": [
       "      name symbol                priceUsd                      date\n",
       "0  bitcoin    BTC  36585.7610417722410952  2022-01-25T00:00:00.000Z\n",
       "1  bitcoin    BTC  37593.2862902953800372  2022-01-26T00:00:00.000Z\n",
       "2  bitcoin    BTC  36443.7277806191196014  2022-01-27T00:00:00.000Z\n",
       "3  bitcoin    BTC  37195.3337856870182247  2022-01-28T00:00:00.000Z\n",
       "4  bitcoin    BTC  37936.3896273022133066  2022-01-29T00:00:00.000Z"
      ]
     },
     "execution_count": 7,
     "metadata": {},
     "output_type": "execute_result"
    }
   ],
   "source": [
    "df = pd.DataFrame(rows, columns = df_cols)\n",
    "df.head()"
   ]
  },
  {
   "cell_type": "code",
   "execution_count": 8,
   "metadata": {},
   "outputs": [
    {
     "name": "stdout",
     "output_type": "stream",
     "text": [
      "<class 'pandas.core.frame.DataFrame'>\n",
      "RangeIndex: 36200 entries, 0 to 36199\n",
      "Data columns (total 4 columns):\n",
      " #   Column    Non-Null Count  Dtype \n",
      "---  ------    --------------  ----- \n",
      " 0   name      36200 non-null  object\n",
      " 1   symbol    36200 non-null  object\n",
      " 2   priceUsd  36200 non-null  object\n",
      " 3   date      36200 non-null  object\n",
      "dtypes: object(4)\n",
      "memory usage: 1.1+ MB\n"
     ]
    }
   ],
   "source": [
    "df.info()"
   ]
  },
  {
   "cell_type": "code",
   "execution_count": 10,
   "metadata": {
    "scrolled": true
   },
   "outputs": [
    {
     "data": {
      "text/html": [
       "<div>\n",
       "<style scoped>\n",
       "    .dataframe tbody tr th:only-of-type {\n",
       "        vertical-align: middle;\n",
       "    }\n",
       "\n",
       "    .dataframe tbody tr th {\n",
       "        vertical-align: top;\n",
       "    }\n",
       "\n",
       "    .dataframe thead th {\n",
       "        text-align: right;\n",
       "    }\n",
       "</style>\n",
       "<table border=\"1\" class=\"dataframe\">\n",
       "  <thead>\n",
       "    <tr style=\"text-align: right;\">\n",
       "      <th></th>\n",
       "      <th>name</th>\n",
       "      <th>symbol</th>\n",
       "      <th>priceUsd</th>\n",
       "      <th>date</th>\n",
       "    </tr>\n",
       "  </thead>\n",
       "  <tbody>\n",
       "    <tr>\n",
       "      <th>0</th>\n",
       "      <td>bitcoin</td>\n",
       "      <td>BTC</td>\n",
       "      <td>36585.761042</td>\n",
       "      <td>2022-01-25T00:00:00.000Z</td>\n",
       "    </tr>\n",
       "    <tr>\n",
       "      <th>1</th>\n",
       "      <td>bitcoin</td>\n",
       "      <td>BTC</td>\n",
       "      <td>37593.286290</td>\n",
       "      <td>2022-01-26T00:00:00.000Z</td>\n",
       "    </tr>\n",
       "    <tr>\n",
       "      <th>2</th>\n",
       "      <td>bitcoin</td>\n",
       "      <td>BTC</td>\n",
       "      <td>36443.727781</td>\n",
       "      <td>2022-01-27T00:00:00.000Z</td>\n",
       "    </tr>\n",
       "    <tr>\n",
       "      <th>3</th>\n",
       "      <td>bitcoin</td>\n",
       "      <td>BTC</td>\n",
       "      <td>37195.333786</td>\n",
       "      <td>2022-01-28T00:00:00.000Z</td>\n",
       "    </tr>\n",
       "    <tr>\n",
       "      <th>4</th>\n",
       "      <td>bitcoin</td>\n",
       "      <td>BTC</td>\n",
       "      <td>37936.389627</td>\n",
       "      <td>2022-01-29T00:00:00.000Z</td>\n",
       "    </tr>\n",
       "  </tbody>\n",
       "</table>\n",
       "</div>"
      ],
      "text/plain": [
       "      name symbol      priceUsd                      date\n",
       "0  bitcoin    BTC  36585.761042  2022-01-25T00:00:00.000Z\n",
       "1  bitcoin    BTC  37593.286290  2022-01-26T00:00:00.000Z\n",
       "2  bitcoin    BTC  36443.727781  2022-01-27T00:00:00.000Z\n",
       "3  bitcoin    BTC  37195.333786  2022-01-28T00:00:00.000Z\n",
       "4  bitcoin    BTC  37936.389627  2022-01-29T00:00:00.000Z"
      ]
     },
     "execution_count": 10,
     "metadata": {},
     "output_type": "execute_result"
    }
   ],
   "source": [
    "df.head()"
   ]
  },
  {
   "cell_type": "markdown",
   "metadata": {},
   "source": [
    "### Данные собраны! "
   ]
  },
  {
   "cell_type": "code",
   "execution_count": 11,
   "metadata": {},
   "outputs": [],
   "source": [
    "df.to_csv('crypto_new.csv')"
   ]
  },
  {
   "cell_type": "markdown",
   "metadata": {},
   "source": [
    "<div style=\"padding:10px;color:white;margin:0;font-size:150%;text-align:left;display:fill;border-radius:2px;background-color:#079A82;overflow:hidden;font-weight:500\">Построение Dashboard</div>"
   ]
  },
  {
   "cell_type": "code",
   "execution_count": null,
   "metadata": {},
   "outputs": [
    {
     "name": "stdout",
     "output_type": "stream",
     "text": [
      "Dash is running on http://127.0.0.1:8050/\n",
      "\n",
      " * Serving Flask app \"__main__\" (lazy loading)\n",
      " * Environment: production\n",
      "\u001b[31m   WARNING: This is a development server. Do not use it in a production deployment.\u001b[0m\n",
      "\u001b[2m   Use a production WSGI server instead.\u001b[0m\n",
      " * Debug mode: off\n"
     ]
    },
    {
     "name": "stderr",
     "output_type": "stream",
     "text": [
      " * Running on http://127.0.0.1:8050/ (Press CTRL+C to quit)\n",
      "127.0.0.1 - - [25/Jan/2023 02:03:34] \"\u001b[37mGET / HTTP/1.1\u001b[0m\" 200 -\n",
      "127.0.0.1 - - [25/Jan/2023 02:03:34] \"\u001b[37mGET /_dash-layout HTTP/1.1\u001b[0m\" 200 -\n",
      "127.0.0.1 - - [25/Jan/2023 02:03:34] \"\u001b[37mGET /_dash-dependencies HTTP/1.1\u001b[0m\" 200 -\n",
      "127.0.0.1 - - [25/Jan/2023 02:03:34] \"\u001b[36mGET /_dash-component-suites/dash/dcc/async-dropdown.js HTTP/1.1\u001b[0m\" 304 -\n",
      "127.0.0.1 - - [25/Jan/2023 02:03:34] \"\u001b[36mGET /_dash-component-suites/dash/dcc/async-graph.js HTTP/1.1\u001b[0m\" 304 -\n",
      "127.0.0.1 - - [25/Jan/2023 02:03:34] \"\u001b[36mGET /_dash-component-suites/dash/dcc/async-datepicker.js HTTP/1.1\u001b[0m\" 304 -\n",
      "127.0.0.1 - - [25/Jan/2023 02:03:34] \"\u001b[37mPOST /_dash-update-component HTTP/1.1\u001b[0m\" 200 -\n",
      "127.0.0.1 - - [25/Jan/2023 02:03:34] \"\u001b[36mGET /_dash-component-suites/dash/dcc/async-plotlyjs.js HTTP/1.1\u001b[0m\" 304 -\n",
      "127.0.0.1 - - [25/Jan/2023 02:04:04] \"\u001b[37mGET / HTTP/1.1\u001b[0m\" 200 -\n",
      "127.0.0.1 - - [25/Jan/2023 02:04:05] \"\u001b[37mGET /_dash-layout HTTP/1.1\u001b[0m\" 200 -\n",
      "127.0.0.1 - - [25/Jan/2023 02:04:05] \"\u001b[37mGET /_dash-dependencies HTTP/1.1\u001b[0m\" 200 -\n",
      "127.0.0.1 - - [25/Jan/2023 02:04:05] \"\u001b[36mGET /_dash-component-suites/dash/dcc/async-dropdown.js HTTP/1.1\u001b[0m\" 304 -\n",
      "127.0.0.1 - - [25/Jan/2023 02:04:05] \"\u001b[36mGET /_dash-component-suites/dash/dcc/async-datepicker.js HTTP/1.1\u001b[0m\" 304 -\n",
      "127.0.0.1 - - [25/Jan/2023 02:04:05] \"\u001b[36mGET /_dash-component-suites/dash/dcc/async-graph.js HTTP/1.1\u001b[0m\" 304 -\n",
      "127.0.0.1 - - [25/Jan/2023 02:04:05] \"\u001b[36mGET /_dash-component-suites/dash/dcc/async-plotlyjs.js HTTP/1.1\u001b[0m\" 304 -\n",
      "127.0.0.1 - - [25/Jan/2023 02:04:05] \"\u001b[37mPOST /_dash-update-component HTTP/1.1\u001b[0m\" 200 -\n"
     ]
    }
   ],
   "source": [
    "#Подготовка данных\n",
    "\n",
    "data = df\n",
    "data['Date'] = pd.to_datetime(data['date'], format='%Y-%m-%d')\n",
    "data['priceUsd'] = pd.to_numeric(df['priceUsd'])\n",
    "data.sort_values('Date', inplace=True)\n",
    "                              \n",
    "\n",
    "# Стиль визуализации                               \n",
    "external_stylesheets = [\n",
    "    {\n",
    "        'href': 'https://fonts.googleapis.com/css2?'\n",
    "        'family=Lato:wght@400;700&display=swap',\n",
    "        'rel': 'stylesheet',\n",
    "    },\n",
    "]\n",
    "                              \n",
    "\n",
    "app = dash.Dash(__name__, external_stylesheets=external_stylesheets)\n",
    "app.title = 'Cryptos!'\n",
    "app.layout = html.Div(\n",
    "    children=[\n",
    "        html.Div(\n",
    "            children=[\n",
    "                html.H1(\n",
    "                    children='Cryptocurrency price by date', className='header-title'\n",
    "                ),\n",
    "                html.P(\n",
    "                    children='CRYPTOCURRENCY RATE DYNAMICS',\n",
    "                    className='header-description',\n",
    "                ),\n",
    "            ],\n",
    "            className='header',\n",
    "        ),\n",
    "        \n",
    "        # Фильтр по криптовалюте\n",
    "        \n",
    "        html.Div(\n",
    "            children=[\n",
    "                html.Div(\n",
    "                    children=[\n",
    "                        html.Div(children='Symbol', className='menu-title'),\n",
    "                        dcc.Dropdown(\n",
    "                            id='symbol-filter',\n",
    "                            options=[\n",
    "                                {'label': symbol, 'value': symbol}\n",
    "                                for symbol in np.sort(data.symbol.unique())\n",
    "                            ],\n",
    "                            value='BTC',\n",
    "                            clearable=False,\n",
    "                            className='dropdown',\n",
    "                        ),\n",
    "                    ]\n",
    "                ),\n",
    "                \n",
    "                # Фильтр по дате\n",
    "                html.Div(\n",
    "                    children=[\n",
    "                        html.Div(\n",
    "                            children='Date Range',\n",
    "                            className='menu-title'\n",
    "                            ),\n",
    "                        dcc.DatePickerRange(\n",
    "                            id='date-range',\n",
    "                            min_date_allowed=data.Date.min().date(),\n",
    "                            max_date_allowed=data.Date.max().date(),\n",
    "                            start_date=data.Date.min().date(),\n",
    "                            end_date=data.Date.max().date(),\n",
    "                        ),\n",
    "                    ]\n",
    "                ),\n",
    "            ],\n",
    "            className='menu',\n",
    "        ),\n",
    "        html.Div(\n",
    "            children=[\n",
    "                html.Div(\n",
    "                    children=dcc.Graph(\n",
    "                        id='bar-chart', config={'displayModeBar': False},\n",
    "                    ),\n",
    "                    className='card',\n",
    "                ),\n",
    "                html.Div(\n",
    "                    children=dcc.Graph(\n",
    "                        id='line-chart', config={'displayModeBar': False},\n",
    "                    ),\n",
    "                    className='card',\n",
    "                ),\n",
    "            ],\n",
    "            className='wrapper',\n",
    "        ),\n",
    "    ]\n",
    ")\n",
    "@app.callback(\n",
    "    [Output('bar-chart', 'figure'), Output('line-chart', 'figure')],\n",
    "    [\n",
    "        Input('symbol-filter', 'value'),\n",
    "        Input('date-range', 'start_date'),\n",
    "        Input('date-range', 'end_date'),\n",
    "    ],\n",
    ")\n",
    "                              \n",
    "# Функция фильтрующая \n",
    "def update_charts(symbol, start_date, end_date):\n",
    "    mask = (\n",
    "        (data.symbol == symbol)\n",
    "        & (data.Date >= start_date)\n",
    "        & (data.Date <= end_date)\n",
    "    )\n",
    "    filtered_data = data.loc[mask, :]\n",
    "    \n",
    "    bar_chart_figure = {\n",
    "        'data': [{'x': filtered_data['Date'],\n",
    "                'y': filtered_data['priceUsd'],\n",
    "                'type': 'bar',\n",
    "                'hovertemplate': '$%{y:.2f}',\n",
    "            },\n",
    "        ],\n",
    "        'layout': {\n",
    "            'title': {\n",
    "                'text': 'Rate bar chart',\n",
    "                'x': 0.05,\n",
    "                'xanchor': 'left',\n",
    "            },\n",
    "            'xaxis': {'fixedrange': True},\n",
    "            'yaxis': {'tickprefix': '$', 'fixedrange': True},\n",
    "            'colorway': ['#17B897'],\n",
    "        },\n",
    "    }\n",
    "    line_chart_figure = {\n",
    "        'data': [\n",
    "            {\n",
    "                'x': filtered_data['Date'],\n",
    "                'y': filtered_data['priceUsd'],\n",
    "                'type': 'lines',\n",
    "            },\n",
    "        ],\n",
    "        'layout': {\n",
    "            'title': {'text': 'Rate Line chart', 'x': 0.05, 'xanchor': 'left'},\n",
    "            'xaxis': {'fixedrange': True},\n",
    "            'yaxis': {'fixedrange': True},\n",
    "            'colorway': ['#E12D39'],\n",
    "        },\n",
    "    }\n",
    "    return bar_chart_figure, line_chart_figure\n",
    "if __name__ == '__main__':\n",
    "    app.run_server(debug=False)"
   ]
  },
  {
   "cell_type": "code",
   "execution_count": null,
   "metadata": {},
   "outputs": [],
   "source": []
  }
 ],
 "metadata": {
  "kernelspec": {
   "display_name": "Python 3",
   "language": "python",
   "name": "python3"
  },
  "language_info": {
   "codemirror_mode": {
    "name": "ipython",
    "version": 3
   },
   "file_extension": ".py",
   "mimetype": "text/x-python",
   "name": "python",
   "nbconvert_exporter": "python",
   "pygments_lexer": "ipython3",
   "version": "3.8.5"
  }
 },
 "nbformat": 4,
 "nbformat_minor": 4
}
